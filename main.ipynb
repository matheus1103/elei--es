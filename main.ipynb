{
 "cells": [
  {
   "cell_type": "code",
   "execution_count": 59,
   "metadata": {},
   "outputs": [
    {
     "name": "stdout",
     "output_type": "stream",
     "text": [
      "       Candidatos     Votos Porcentagem\n",
      "0            LULA  37265102       45,74\n",
      "1  JAIR BOLSONARO  37074784       45,51\n",
      "2    SIMONE TEBET   3627005        4,45\n",
      "3      CIRO GOMES   2511291        3,08\n"
     ]
    }
   ],
   "source": [
    "import requests\n",
    "import json\n",
    "import pandas as pd\n",
    "import matplotlib.pyplot as plt\n",
    "import time\n",
    "import os\n",
    "\n",
    "data = requests.get('https://resultados.tse.jus.br/oficial/ele2022/544/dados-simplificados/br/br-c0001-e000544-r.json')\n",
    "json_data = json.loads(data.content)\n",
    "\n",
    "candidatos = []\n",
    "partidos = []\n",
    "votos = []\n",
    "porcentagem = []\n",
    "for informacoes in json_data['cand']:\n",
    "    if informacoes['seq'] == '1' or informacoes['seq'] =='2' or informacoes['seq'] =='3' or informacoes['seq'] == '4':\n",
    "        candidatos.append(informacoes['nm'])\n",
    "        votos.append(informacoes['vap'])\n",
    "        porcentagem.append(informacoes['pvap'])\n",
    "\n",
    "df_resultados = pd.DataFrame(list(zip(candidatos,votos,porcentagem)),columns=['Candidatos','Votos','Porcentagem'])\n",
    "print(df_resultados)"
   ]
  }
 ],
 "metadata": {
  "kernelspec": {
   "display_name": "Python 3.10.4 64-bit",
   "language": "python",
   "name": "python3"
  },
  "language_info": {
   "codemirror_mode": {
    "name": "ipython",
    "version": 3
   },
   "file_extension": ".py",
   "mimetype": "text/x-python",
   "name": "python",
   "nbconvert_exporter": "python",
   "pygments_lexer": "ipython3",
   "version": "3.10.6"
  },
  "orig_nbformat": 4,
  "vscode": {
   "interpreter": {
    "hash": "916dbcbb3f70747c44a77c7bcd40155683ae19c65e1c03b4aa3499c5328201f1"
   }
  }
 },
 "nbformat": 4,
 "nbformat_minor": 2
}
